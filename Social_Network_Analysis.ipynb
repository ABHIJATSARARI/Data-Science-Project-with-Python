{
  "nbformat": 4,
  "nbformat_minor": 0,
  "metadata": {
    "colab": {
      "provenance": [],
      "authorship_tag": "ABX9TyM2EmZEk7onD7UWuK71007E"
    },
    "kernelspec": {
      "name": "python3",
      "display_name": "Python 3"
    },
    "language_info": {
      "name": "python"
    }
  },
  "cells": [
    {
      "cell_type": "markdown",
      "source": [
        "# ***Social Network Analysis***"
      ],
      "metadata": {
        "id": "z_qV7AWH5E1P"
      }
    },
    {
      "cell_type": "code",
      "source": [
        "pip install dash dash-cytoscape networkx python-louvain pandas\n"
      ],
      "metadata": {
        "id": "x0Y084Uq_WcS",
        "colab": {
          "base_uri": "https://localhost:8080/"
        },
        "outputId": "88271e56-73de-4e22-c6f0-618596e6554d"
      },
      "execution_count": 1,
      "outputs": [
        {
          "output_type": "stream",
          "name": "stdout",
          "text": [
            "Collecting dash\n",
            "  Downloading dash-2.18.1-py3-none-any.whl.metadata (10 kB)\n",
            "Collecting dash-cytoscape\n",
            "  Downloading dash_cytoscape-1.0.2.tar.gz (4.0 MB)\n",
            "\u001b[2K     \u001b[90m━━━━━━━━━━━━━━━━━━━━━━━━━━━━━━━━━━━━━━━━\u001b[0m \u001b[32m4.0/4.0 MB\u001b[0m \u001b[31m15.7 MB/s\u001b[0m eta \u001b[36m0:00:00\u001b[0m\n",
            "\u001b[?25h  Preparing metadata (setup.py) ... \u001b[?25l\u001b[?25hdone\n",
            "Requirement already satisfied: networkx in /usr/local/lib/python3.10/dist-packages (3.3)\n",
            "Requirement already satisfied: python-louvain in /usr/local/lib/python3.10/dist-packages (0.16)\n",
            "Requirement already satisfied: pandas in /usr/local/lib/python3.10/dist-packages (2.2.2)\n",
            "Requirement already satisfied: Flask<3.1,>=1.0.4 in /usr/local/lib/python3.10/dist-packages (from dash) (2.2.5)\n",
            "Requirement already satisfied: Werkzeug<3.1 in /usr/local/lib/python3.10/dist-packages (from dash) (3.0.4)\n",
            "Requirement already satisfied: plotly>=5.0.0 in /usr/local/lib/python3.10/dist-packages (from dash) (5.24.1)\n",
            "Collecting dash-html-components==2.0.0 (from dash)\n",
            "  Downloading dash_html_components-2.0.0-py3-none-any.whl.metadata (3.8 kB)\n",
            "Collecting dash-core-components==2.0.0 (from dash)\n",
            "  Downloading dash_core_components-2.0.0-py3-none-any.whl.metadata (2.9 kB)\n",
            "Collecting dash-table==5.0.0 (from dash)\n",
            "  Downloading dash_table-5.0.0-py3-none-any.whl.metadata (2.4 kB)\n",
            "Requirement already satisfied: importlib-metadata in /usr/local/lib/python3.10/dist-packages (from dash) (8.4.0)\n",
            "Requirement already satisfied: typing-extensions>=4.1.1 in /usr/local/lib/python3.10/dist-packages (from dash) (4.12.2)\n",
            "Requirement already satisfied: requests in /usr/local/lib/python3.10/dist-packages (from dash) (2.32.3)\n",
            "Collecting retrying (from dash)\n",
            "  Downloading retrying-1.3.4-py3-none-any.whl.metadata (6.9 kB)\n",
            "Requirement already satisfied: nest-asyncio in /usr/local/lib/python3.10/dist-packages (from dash) (1.6.0)\n",
            "Requirement already satisfied: setuptools in /usr/local/lib/python3.10/dist-packages (from dash) (71.0.4)\n",
            "Requirement already satisfied: numpy in /usr/local/lib/python3.10/dist-packages (from python-louvain) (1.26.4)\n",
            "Requirement already satisfied: python-dateutil>=2.8.2 in /usr/local/lib/python3.10/dist-packages (from pandas) (2.8.2)\n",
            "Requirement already satisfied: pytz>=2020.1 in /usr/local/lib/python3.10/dist-packages (from pandas) (2024.2)\n",
            "Requirement already satisfied: tzdata>=2022.7 in /usr/local/lib/python3.10/dist-packages (from pandas) (2024.2)\n",
            "Requirement already satisfied: Jinja2>=3.0 in /usr/local/lib/python3.10/dist-packages (from Flask<3.1,>=1.0.4->dash) (3.1.4)\n",
            "Requirement already satisfied: itsdangerous>=2.0 in /usr/local/lib/python3.10/dist-packages (from Flask<3.1,>=1.0.4->dash) (2.2.0)\n",
            "Requirement already satisfied: click>=8.0 in /usr/local/lib/python3.10/dist-packages (from Flask<3.1,>=1.0.4->dash) (8.1.7)\n",
            "Requirement already satisfied: tenacity>=6.2.0 in /usr/local/lib/python3.10/dist-packages (from plotly>=5.0.0->dash) (9.0.0)\n",
            "Requirement already satisfied: packaging in /usr/local/lib/python3.10/dist-packages (from plotly>=5.0.0->dash) (24.1)\n",
            "Requirement already satisfied: six>=1.5 in /usr/local/lib/python3.10/dist-packages (from python-dateutil>=2.8.2->pandas) (1.16.0)\n",
            "Requirement already satisfied: MarkupSafe>=2.1.1 in /usr/local/lib/python3.10/dist-packages (from Werkzeug<3.1->dash) (2.1.5)\n",
            "Requirement already satisfied: zipp>=0.5 in /usr/local/lib/python3.10/dist-packages (from importlib-metadata->dash) (3.20.2)\n",
            "Requirement already satisfied: charset-normalizer<4,>=2 in /usr/local/lib/python3.10/dist-packages (from requests->dash) (3.3.2)\n",
            "Requirement already satisfied: idna<4,>=2.5 in /usr/local/lib/python3.10/dist-packages (from requests->dash) (3.10)\n",
            "Requirement already satisfied: urllib3<3,>=1.21.1 in /usr/local/lib/python3.10/dist-packages (from requests->dash) (2.2.3)\n",
            "Requirement already satisfied: certifi>=2017.4.17 in /usr/local/lib/python3.10/dist-packages (from requests->dash) (2024.8.30)\n",
            "Downloading dash-2.18.1-py3-none-any.whl (7.5 MB)\n",
            "\u001b[2K   \u001b[90m━━━━━━━━━━━━━━━━━━━━━━━━━━━━━━━━━━━━━━━━\u001b[0m \u001b[32m7.5/7.5 MB\u001b[0m \u001b[31m37.1 MB/s\u001b[0m eta \u001b[36m0:00:00\u001b[0m\n",
            "\u001b[?25hDownloading dash_core_components-2.0.0-py3-none-any.whl (3.8 kB)\n",
            "Downloading dash_html_components-2.0.0-py3-none-any.whl (4.1 kB)\n",
            "Downloading dash_table-5.0.0-py3-none-any.whl (3.9 kB)\n",
            "Downloading retrying-1.3.4-py3-none-any.whl (11 kB)\n",
            "Building wheels for collected packages: dash-cytoscape\n",
            "  Building wheel for dash-cytoscape (setup.py) ... \u001b[?25l\u001b[?25hdone\n",
            "  Created wheel for dash-cytoscape: filename=dash_cytoscape-1.0.2-py3-none-any.whl size=4010717 sha256=08b7fb189b9ca0af82ed29ee6287b732e22357a164e1ab2379daa8d9fb9e0865\n",
            "  Stored in directory: /root/.cache/pip/wheels/91/23/5e/56fa701c668444b121ad2353a96478179dc49086a9c44ee930\n",
            "Successfully built dash-cytoscape\n",
            "Installing collected packages: dash-table, dash-html-components, dash-core-components, retrying, dash, dash-cytoscape\n",
            "Successfully installed dash-2.18.1 dash-core-components-2.0.0 dash-cytoscape-1.0.2 dash-html-components-2.0.0 dash-table-5.0.0 retrying-1.3.4\n"
          ]
        }
      ]
    },
    {
      "cell_type": "code",
      "source": [
        "import dash\n",
        "from dash import dcc, html\n",
        "from dash.dependencies import Input, Output\n",
        "import dash_cytoscape as cyto\n",
        "import networkx as nx\n",
        "import community.community_louvain as community_louvain\n",
        "import pandas as pd\n",
        "\n",
        "# Dataset 1: Facebook Circles Dataset\n",
        "url_facebook = \"https://snap.stanford.edu/data/facebook_combined.txt.gz\"\n",
        "df_facebook = pd.read_csv(url_facebook, delimiter=' ', header=None, names=['source', 'target'])\n",
        "G_facebook = nx.from_pandas_edgelist(df_facebook, source='source', target='target')\n",
        "partition_facebook = community_louvain.best_partition(G_facebook)\n",
        "for node, community in partition_facebook.items():\n",
        "    G_facebook.nodes[node]['community'] = community\n",
        "\n",
        "# Dataset 2: Karate Club Dataset\n",
        "G_karate = nx.karate_club_graph()\n",
        "partition_karate = community_louvain.best_partition(G_karate)\n",
        "for node, community in partition_karate.items():\n",
        "    G_karate.nodes[node]['community'] = community\n"
      ],
      "metadata": {
        "id": "7_cERVWF_Z7O"
      },
      "execution_count": 2,
      "outputs": []
    },
    {
      "cell_type": "code",
      "source": [
        "import dash\n",
        "from dash import dcc, html\n",
        "from dash.dependencies import Input, Output\n",
        "import dash_cytoscape as cyto\n",
        "import networkx as nx\n",
        "import community.community_louvain as community_louvain\n",
        "import pandas as pd\n"
      ],
      "metadata": {
        "id": "XFy0zE1W_Z49"
      },
      "execution_count": 3,
      "outputs": []
    },
    {
      "cell_type": "code",
      "source": [
        "# Dataset 1: Facebook Circles Dataset\n",
        "url_facebook = \"https://snap.stanford.edu/data/facebook_combined.txt.gz\"\n",
        "df_facebook = pd.read_csv(url_facebook, delimiter=' ', header=None, names=['source', 'target'])\n",
        "G_facebook = nx.from_pandas_edgelist(df_facebook, source='source', target='target')\n",
        "partition_facebook = community_louvain.best_partition(G_facebook)\n",
        "for node, community in partition_facebook.items():\n",
        "    G_facebook.nodes[node]['community'] = community\n",
        "\n",
        "# Dataset 2: Karate Club Dataset\n",
        "G_karate = nx.karate_club_graph()\n",
        "partition_karate = community_louvain.best_partition(G_karate)\n",
        "for node, community in partition_karate.items():\n",
        "    G_karate.nodes[node]['community'] = community\n"
      ],
      "metadata": {
        "id": "ol0WSP9g_Z2R"
      },
      "execution_count": 4,
      "outputs": []
    },
    {
      "cell_type": "code",
      "source": [
        "def generate_cytoscape_data(graph, partition, num_nodes):\n",
        "    subgraph = graph.subgraph(list(graph.nodes)[:num_nodes])\n",
        "\n",
        "    elements = []\n",
        "    for node in subgraph.nodes:\n",
        "        elements.append({\n",
        "            'data': {'id': str(node), 'label': str(node), 'community': partition[node]},\n",
        "            'classes': 'community-' + str(partition[node])\n",
        "        })\n",
        "    for edge in subgraph.edges:\n",
        "        elements.append({\n",
        "            'data': {'source': str(edge[0]), 'target': str(edge[1])}\n",
        "        })\n",
        "    return elements\n"
      ],
      "metadata": {
        "id": "73HrG_517gUU"
      },
      "execution_count": 5,
      "outputs": []
    },
    {
      "cell_type": "code",
      "source": [
        "# Dash App and Layout\n",
        "app = dash.Dash(__name__)\n",
        "\n",
        "app.layout = html.Div(\n",
        "    style={'backgroundColor': '#111111', 'color': '#FFFFFF', 'padding': '10px', 'height': '100vh', 'display': 'flex', 'flexDirection': 'column'},\n",
        "    children=[\n",
        "        # Header\n",
        "        html.H1('Social Network Analysis Dashboard', style={'text-align': 'center', 'color': '#00FFAA'}),\n",
        "\n",
        "        # Dropdown to select dataset\n",
        "        html.Div([\n",
        "            html.Label('Select Dataset:', style={'color': '#FFFFFF'}),\n",
        "            dcc.Dropdown(\n",
        "                id='dataset-dropdown',\n",
        "                options=[\n",
        "                    {'label': 'Facebook Circles', 'value': 'facebook'},\n",
        "                    {'label': 'Karate Club', 'value': 'karate'}\n",
        "                ],\n",
        "                value='facebook',\n",
        "                style={'color': '#000000'}\n",
        "            )\n",
        "        ], style={'width': '300px', 'margin': '0 auto 20px'}),\n",
        "\n",
        "        # Slider to control number of nodes displayed\n",
        "        html.Div([\n",
        "            html.Label('Number of Nodes:', style={'color': '#FFFFFF'}),\n",
        "            dcc.Slider(\n",
        "                id='node-slider',\n",
        "                min=10, max=500, step=10, value=100,\n",
        "                marks={i: str(i) for i in range(0, 501, 100)},\n",
        "                tooltip={\"placement\": \"bottom\", \"always_visible\": True}\n",
        "            )\n",
        "        ], style={'margin': '20px 0'}),\n",
        "\n",
        "        # Network graph with transparent background\n",
        "        cyto.Cytoscape(\n",
        "            id='network-graph',\n",
        "            layout={'name': 'cose'},  # Layout style for graph\n",
        "            style={'width': '100%', 'height': '100%', 'backgroundColor': 'transparent', 'flexGrow': '1'},\n",
        "            elements=generate_cytoscape_data(G_facebook, partition_facebook, 100),\n",
        "            stylesheet=[\n",
        "                {\n",
        "                    'selector': 'node',\n",
        "                    'style': {\n",
        "                        'background-color': '#00FFAA',\n",
        "                        'label': 'data(label)',\n",
        "                        'color': 'white',\n",
        "                        'text-outline-width': '1px',\n",
        "                        'text-outline-color': '#000000'\n",
        "                    }\n",
        "                },\n",
        "                {\n",
        "                    'selector': 'edge',\n",
        "                    'style': {\n",
        "                        'line-color': '#888',\n",
        "                        'width': 1\n",
        "                    }\n",
        "                },\n",
        "                {\n",
        "                    'selector': '.community-0',\n",
        "                    'style': {'background-color': '#FF4136'}\n",
        "                },\n",
        "                {\n",
        "                    'selector': '.community-1',\n",
        "                    'style': {'background-color': '#FF851B'}\n",
        "                },\n",
        "                {\n",
        "                    'selector': '.community-2',\n",
        "                    'style': {'background-color': '#0074D9'}\n",
        "                },\n",
        "                {\n",
        "                    'selector': '.community-3',\n",
        "                    'style': {'background-color': '#2ECC40'}\n",
        "                }\n",
        "            ]\n",
        "        ),\n",
        "\n",
        "        # Footer\n",
        "        html.Div('Created by AI Innovators', style={'text-align': 'center', 'marginTop': '20px', 'color': '#AAAAAA'})\n",
        "    ]\n",
        ")\n"
      ],
      "metadata": {
        "id": "XZE1-kn6_Zze"
      },
      "execution_count": 6,
      "outputs": []
    },
    {
      "cell_type": "code",
      "source": [
        "# Callback to update the graph based on the dataset and slider input\n",
        "@app.callback(\n",
        "    Output('network-graph', 'elements'),\n",
        "    [Input('dataset-dropdown', 'value'),\n",
        "     Input('node-slider', 'value')]\n",
        ")\n",
        "def update_graph(selected_dataset, num_nodes):\n",
        "    if selected_dataset == 'facebook':\n",
        "        return generate_cytoscape_data(G_facebook, partition_facebook, num_nodes)\n",
        "    elif selected_dataset == 'karate':\n",
        "        return generate_cytoscape_data(G_karate, partition_karate, num_nodes)\n"
      ],
      "metadata": {
        "id": "u1w2IQmP5Ufo"
      },
      "execution_count": 7,
      "outputs": []
    },
    {
      "cell_type": "code",
      "source": [
        "# Run the app\n",
        "if __name__ == '__main__':\n",
        "    app.run_server(debug=False)\n"
      ],
      "metadata": {
        "id": "HRDGAcNv8Oil",
        "colab": {
          "base_uri": "https://localhost:8080/",
          "height": 671
        },
        "outputId": "58ed470f-7371-4dd6-a4df-2b801d552d2f"
      },
      "execution_count": 8,
      "outputs": [
        {
          "output_type": "display_data",
          "data": {
            "text/plain": [
              "<IPython.core.display.Javascript object>"
            ],
            "application/javascript": [
              "(async (port, path, width, height, cache, element) => {\n",
              "    if (!google.colab.kernel.accessAllowed && !cache) {\n",
              "      return;\n",
              "    }\n",
              "    element.appendChild(document.createTextNode(''));\n",
              "    const url = await google.colab.kernel.proxyPort(port, {cache});\n",
              "    const iframe = document.createElement('iframe');\n",
              "    iframe.src = new URL(path, url).toString();\n",
              "    iframe.height = height;\n",
              "    iframe.width = width;\n",
              "    iframe.style.border = 0;\n",
              "    iframe.allow = [\n",
              "        'accelerometer',\n",
              "        'autoplay',\n",
              "        'camera',\n",
              "        'clipboard-read',\n",
              "        'clipboard-write',\n",
              "        'gyroscope',\n",
              "        'magnetometer',\n",
              "        'microphone',\n",
              "        'serial',\n",
              "        'usb',\n",
              "        'xr-spatial-tracking',\n",
              "    ].join('; ');\n",
              "    element.appendChild(iframe);\n",
              "  })(8050, \"/\", \"100%\", 650, false, window.element)"
            ]
          },
          "metadata": {}
        }
      ]
    },
    {
      "cell_type": "markdown",
      "source": [
        "# **HAPPY COADING**"
      ],
      "metadata": {
        "id": "Ey1_-4iE5EFp"
      }
    }
  ]
}